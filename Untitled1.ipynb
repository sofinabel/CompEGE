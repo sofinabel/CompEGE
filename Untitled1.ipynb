{
 "cells": [
  {
   "cell_type": "markdown",
   "id": "023040a0-7d5e-45fa-849d-d9fc8cca890f",
   "metadata": {},
   "source": [
    "<h2>Число масок</h2>\n",
    "<h4>Маска представляет собой 4 байта, разделённых точками, то есть 32-битное число, причём в двоичном представлении в маске сначала идут единицы, а затем нули. Маска подсети может иметь от 0 до 32 единиц подряд, указывающих на часть сети. Количество возможных масок подсети от 0 до 32 единиц дает 33 варианта (включая все нули и все единицы).</h4>"
   ]
  },
  {
   "cell_type": "markdown",
   "id": "5648c09a-8faa-4a2c-af65-4579d1259412",
   "metadata": {},
   "source": [
    "Для узла с IP-адресом 203.75.227.102 адрес сети равен 203.75.224.0. Для скольких значений третьего слева байта маски допустим такой адрес сети?"
   ]
  },
  {
   "cell_type": "code",
   "execution_count": null,
   "id": "e216588e-0054-4435-9eef-b3ddb19cb0f3",
   "metadata": {},
   "outputs": [],
   "source": [
    "from ipaddress import *\n",
    "\n",
    "\n",
    "d = []\n",
    "for mask in range(33):\n",
    "    net = ip_network('203.75.227.102/' + str(mask), 0)\n",
    "    if str(net.network_address) == '203.75.224.0':\n",
    "        d.append(str(net.netmask).split('.')[2])\n",
    "\n",
    "print(len(set(d)))\n",
    "    "
   ]
  },
  {
   "cell_type": "markdown",
   "id": "1f86f310-c06c-42fb-98ab-1865829f7a46",
   "metadata": {},
   "source": [
    "<h2>Число адресов в сети</h2>\n",
    "<h4>Число <U>адресов</U> в сети всегда является степенью двойки, тогда как число <U>компьютеров или узлов</U> в сети всегда на 2 меньше, чем число адресов, так как два адреса зарезервированы — адрес самой сети и широковещательный адрес (первый и последний адреса в сети)</h4>"
   ]
  },
  {
   "cell_type": "markdown",
   "id": "2a10eaf0-3670-47ee-9351-8744b68b9b48",
   "metadata": {},
   "source": [
    "Для узла с IP-адресом 98.162.71.94 адрес сети равен 98.162.71.64. Чему равно наибольшее количество возможных адресов в этой сети?"
   ]
  },
  {
   "cell_type": "code",
   "execution_count": 3,
   "id": "6fb0a4e8-615f-4d3b-8d48-1bc30570b5c4",
   "metadata": {},
   "outputs": [
    {
     "name": "stdout",
     "output_type": "stream",
     "text": [
      "64\n",
      "32\n"
     ]
    }
   ],
   "source": [
    "from ipaddress import *\n",
    "\n",
    "for mask in range(33):\n",
    "\tnet = ip_network('98.162.71.94/' + str(mask), 0)\n",
    "\tif str(net.network_address) == '98.162.71.64':\n",
    "\t\tprint(net.num_addresses)"
   ]
  },
  {
   "cell_type": "markdown",
   "id": "05a40785-a16c-4afb-868f-8a98fe3ea89b",
   "metadata": {},
   "source": [
    "<h2>Число адресов в сети с условиями</h2>"
   ]
  },
  {
   "cell_type": "markdown",
   "id": "2da8bd0d-9b96-45f5-b370-1ef98f95f2b5",
   "metadata": {},
   "source": [
    "Сеть задана IP-адресом 112.208.0.0 и сетевой маской 255.255.128.0. Сколько в этой сети ІР-адресов, для которых количество единиц в двоичной записи IP-адреса кратно 11? В ответе укажите только число."
   ]
  },
  {
   "cell_type": "code",
   "execution_count": 10,
   "id": "2c1be6c4-63f5-43ae-83da-20080b37b8d2",
   "metadata": {},
   "outputs": [
    {
     "name": "stdout",
     "output_type": "stream",
     "text": [
      "3003\n"
     ]
    }
   ],
   "source": [
    "from ipaddress import *\n",
    "\n",
    "net = ip_network('112.208.0.0/255.255.128.0', 0)\n",
    "n = 0\n",
    "for i in net:\n",
    "    i = '.'.join(f'{int(j):08b}' for j in str(i).split('.'))\n",
    "    if i.count('1') % 11 == 0:\n",
    "        n += 1\n",
    "print(n)"
   ]
  },
  {
   "cell_type": "markdown",
   "id": "d88f1c3c-3529-4ef0-a174-5c06bf3de71c",
   "metadata": {},
   "source": [
    "Два узла с IP-адресами 201.44.240.33 и 201.44.240.107 находятся в одной сети. Сколько возможных вариантов маски допускает такой случай, если известно, что в двоичном представлении адреса сети не менее 5 единиц?"
   ]
  },
  {
   "cell_type": "code",
   "execution_count": 11,
   "id": "c2e7a041-bcac-4976-9297-84a95b81eff7",
   "metadata": {},
   "outputs": [
    {
     "name": "stdout",
     "output_type": "stream",
     "text": [
      "15\n"
     ]
    }
   ],
   "source": [
    "from ipaddress import *\n",
    "\n",
    "n = 0\n",
    "for mask in range(33):\n",
    "    net1 = ip_network('201.44.240.33/' + str(mask), 0)\n",
    "    net2 = ip_network('201.44.240.107/' + str(mask), 0)\n",
    "    if net1 == net2:\n",
    "        bin_address = '.'.join(f'{int(j):08b}' for j in str(net1.network_address).split('.'))\n",
    "        if bin_address.count('1') >= 5:\n",
    "            n += 1\n",
    "print(n)"
   ]
  },
  {
   "cell_type": "markdown",
   "id": "5e1efa8f-ad1e-4370-8007-300ea5b8e3a4",
   "metadata": {},
   "source": [
    "<h2>Определение маски</h2>"
   ]
  },
  {
   "cell_type": "markdown",
   "id": "de252b8f-a069-4309-a829-bb27f635a58f",
   "metadata": {},
   "source": [
    "Для узла с IP-адресом 224.128.112.142 адрес сети равен 224.128.64.0. Чему равен третий слева байт маски? Ответ запишите в виде десятичного числа."
   ]
  },
  {
   "cell_type": "code",
   "execution_count": 4,
   "id": "b5c60d01-61ee-441b-8ea1-6e03a8bbc822",
   "metadata": {},
   "outputs": [
    {
     "name": "stdout",
     "output_type": "stream",
     "text": [
      "255.255.192.0\n"
     ]
    }
   ],
   "source": [
    "from ipaddress import *\n",
    "\n",
    "for mask in range(33):\n",
    "\tnet = ip_network('224.128.112.142/' + str(mask), 0)\n",
    "\tif str(net.network_address) == '224.128.64.0':\n",
    "\t\tprint(net.netmask)"
   ]
  }
 ],
 "metadata": {
  "kernelspec": {
   "display_name": "Python 3 (ipykernel)",
   "language": "python",
   "name": "python3"
  },
  "language_info": {
   "codemirror_mode": {
    "name": "ipython",
    "version": 3
   },
   "file_extension": ".py",
   "mimetype": "text/x-python",
   "name": "python",
   "nbconvert_exporter": "python",
   "pygments_lexer": "ipython3",
   "version": "3.12.3"
  }
 },
 "nbformat": 4,
 "nbformat_minor": 5
}
