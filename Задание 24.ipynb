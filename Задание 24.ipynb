{
 "cells": [
  {
   "cell_type": "markdown",
   "id": "d3b1b10f",
   "metadata": {},
   "source": [
    "# Задание 24"
   ]
  },
  {
   "cell_type": "markdown",
   "id": "dfe88656",
   "metadata": {},
   "source": [
    "<i><b>Текстовый файл состоит из прописных символов латинских букв. Определите максимальное количество подряд идущих символов в прилагаемом файле, среди которых не содержится два символа из набора букв X, Y и Z (с учётом повторений), стоящих рядом. Для выполнения этого задания следует написать программу.</b></i>"
   ]
  },
  {
   "cell_type": "code",
   "execution_count": null,
   "id": "eebc9522",
   "metadata": {},
   "outputs": [],
   "source": [
    "f = open()\n",
    "s = f.readline()\n",
    "s = s.replace('X', '*').replace('Y', '*').replace('Z', '*')\n",
    "while '**' in s:\n",
    "    s = s.replace('**', '* *')\n",
    "s = s.split()\n",
    "mx = max(s, key=len)\n",
    "print"
   ]
  }
 ],
 "metadata": {
  "kernelspec": {
   "display_name": "Python 3 (ipykernel)",
   "language": "python",
   "name": "python3"
  },
  "language_info": {
   "codemirror_mode": {
    "name": "ipython",
    "version": 3
   },
   "file_extension": ".py",
   "mimetype": "text/x-python",
   "name": "python",
   "nbconvert_exporter": "python",
   "pygments_lexer": "ipython3",
   "version": "3.9.5"
  }
 },
 "nbformat": 4,
 "nbformat_minor": 5
}
