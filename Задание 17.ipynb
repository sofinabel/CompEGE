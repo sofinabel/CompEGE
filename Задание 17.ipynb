{
 "cells": [
  {
   "cell_type": "markdown",
   "id": "1f034de9",
   "metadata": {},
   "source": [
    "# Задание 17"
   ]
  },
  {
   "cell_type": "markdown",
   "id": "bd516065",
   "metadata": {},
   "source": [
    "Мы уже работали с файлами в предыдущих заданиях, однако в данном случае необходимо будет \"подключить\" текстовый файл к программе на python. Для этого откроем файл, сохранив его в переменную:"
   ]
  },
  {
   "cell_type": "code",
   "execution_count": null,
   "id": "d2a3861a",
   "metadata": {},
   "outputs": [],
   "source": [
    "f = open('17.txt')"
   ]
  },
  {
   "cell_type": "markdown",
   "id": "4d0f12b9",
   "metadata": {},
   "source": [
    "Теперь нашему коду \"известен\" указанный файл. Для того, чтобы конструкция выше сработала, необходимо, чтобы файл лежал в той же папке, что и код. В противном случае необходимо прописывать полный путь до файла, что крайне неудобно. Позаботьтесь об этом заранее, просто скопировав файл в ту папку, где находится код. \n",
    "Далее необходимо прочитать это файл, получив из него массив чисел: "
   ]
  },
  {
   "cell_type": "code",
   "execution_count": null,
   "id": "a500ccd9",
   "metadata": {},
   "outputs": [],
   "source": [
    "x = [] # создаём пустой массив\n",
    "for line in f: # перебираем строчки в файле\n",
    "    n = int(line) # делаем строку целым числом\n",
    "    x += [n] # добавляем строку к массиву"
   ]
  },
  {
   "cell_type": "markdown",
   "id": "4745992d",
   "metadata": {},
   "source": [
    "Однако на практике удобнее сразу использовать конструкцию, называемую <b>генератор массивов</b>:"
   ]
  },
  {
   "cell_type": "code",
   "execution_count": null,
   "id": "21799163",
   "metadata": {},
   "outputs": [],
   "source": [
    "x = [int(i) for i in f]"
   ]
  },
  {
   "cell_type": "markdown",
   "id": "0d1afb98",
   "metadata": {},
   "source": [
    "<h3>Перебор подряд идущих пар</h3>"
   ]
  },
  {
   "attachments": {
    "image.png": {
     "image/png": "[encoded data removed]"
    }
   },
   "cell_type": "markdown",
   "id": "a0cc0557",
   "metadata": {},
   "source": [
    "Допустим, мы уже считали все числа из файла в массив x. Далее, нам <b>не нужно возвращаться к файлу и переменной f</b>, будем использовать только массив. Перебирать будем не сами числа, а <b>их индексы</b>. Так, в общем случае <i>i-ый</i> элемент массива имеет последующий с индексом <i>i+1</i>.\n",
    "![image.png](attachment:image.png)"
   ]
  },
  {
   "cell_type": "code",
   "execution_count": 5,
   "id": "bd337c2a",
   "metadata": {},
   "outputs": [
    {
     "name": "stdout",
     "output_type": "stream",
     "text": [
      "1 -3\n",
      "-3 8\n",
      "8 20\n"
     ]
    }
   ],
   "source": [
    "x = [1, -3, 8, 20]\n",
    "for i in range(len(x) - 1): #перебираем до длины массива минус один, так как самый последний элемент не имеет последующего\n",
    "    print(x[i], x[i + 1])"
   ]
  },
  {
   "cell_type": "markdown",
   "id": "9d5d9e71",
   "metadata": {},
   "source": [
    "<h3>Перебор всевозможных пар</h3>"
   ]
  },
  {
   "attachments": {
    "image.png": {
     "image/png": "[encoded data removed]"
    }
   },
   "cell_type": "markdown",
   "id": "e0b3d9a0",
   "metadata": {},
   "source": [
    "Рассмотрим всё тот же массив x. Элемент x[0] образует пары со всеми последующими элементами: (1, -3), (1, 8), (1, 20). Следующий за ним элемент также образует пары со всеми последующими элементами, при этом с предыдущим элементом пару он уже образовал: (-3, 8), (-3, 20). \n",
    "![image.png](attachment:image.png)"
   ]
  },
  {
   "cell_type": "markdown",
   "id": "3ae731cd",
   "metadata": {},
   "source": [
    "<h6>При переборе всех пар каждый элемент образует пары только с последующими</h6>"
   ]
  },
  {
   "cell_type": "markdown",
   "id": "5c580f99",
   "metadata": {},
   "source": [
    "Таким образом, нам понадобится два цикла for. Первый будет выбирать элемент, а второй подбирать для него пары, объединяя с последующими. Сам с собой элемент пару образовывать не может!"
   ]
  },
  {
   "cell_type": "code",
   "execution_count": 8,
   "id": "e4d65d6d",
   "metadata": {},
   "outputs": [
    {
     "name": "stdout",
     "output_type": "stream",
     "text": [
      "1 -3\n",
      "1 8\n",
      "1 20\n",
      "-3 8\n",
      "-3 20\n",
      "8 20\n"
     ]
    }
   ],
   "source": [
    "x = [1, -3, 8, 20]\n",
    "for i in range(len(x)): # перебираем до длины массива, помним, что последний элемент в цикл for не включается\n",
    "    for j in range(i + 1, len(x)): # перебираем все последующие за x[i] элементы\n",
    "        print(x[i], x[j])"
   ]
  },
  {
   "cell_type": "code",
   "execution_count": null,
   "id": "6a49d0fe",
   "metadata": {},
   "outputs": [],
   "source": [
    "<h3>Проверка условий</h3>"
   ]
  },
  {
   "cell_type": "markdown",
   "id": "09fb0654",
   "metadata": {},
   "source": [
    "Например, нам необходимо проверить, заканчивается ли число на 7. Для этого возьмём остаток от деления на основание системы счисления, то есть остаток от деления на 10:"
   ]
  },
  {
   "cell_type": "code",
   "execution_count": 1,
   "id": "5e1f5ef5",
   "metadata": {},
   "outputs": [
    {
     "name": "stdout",
     "output_type": "stream",
     "text": [
      "True\n"
     ]
    }
   ],
   "source": [
    "a = 107\n",
    "print(a % 10 == 7)"
   ]
  },
  {
   "cell_type": "markdown",
   "id": "f7611c7e",
   "metadata": {},
   "source": [
    "Однако, с отрицательными числами это может не сработать:"
   ]
  },
  {
   "cell_type": "code",
   "execution_count": 3,
   "id": "9ff1cc4b",
   "metadata": {},
   "outputs": [
    {
     "name": "stdout",
     "output_type": "stream",
     "text": [
      "3 False\n",
      "7 True\n"
     ]
    }
   ],
   "source": [
    "a = -107\n",
    "print(a % 10, a % 10 == 7) # число оканчивается на цифру 7, но эта конструкция не сработает\n",
    "print(abs(a) % 10, abs(a) % 10 == 7) # а конструкция с модулем сработает"
   ]
  },
  {
   "cell_type": "markdown",
   "id": "03668719",
   "metadata": {},
   "source": [
    "В примере выше остаток от отрицательных чисел берётся по математическим правилам. Поэтому без использования модуля остаток от деления -107 на 7 равен 3."
   ]
  },
  {
   "cell_type": "markdown",
   "id": "495547a6",
   "metadata": {},
   "source": [
    "<b>Если для проверки условия необходимо использовать остаток от деления, и в файле есть отрицательные числа, то обязательно берите число по модулю!</b>"
   ]
  },
  {
   "cell_type": "markdown",
   "id": "c7517b43",
   "metadata": {},
   "source": [
    "<h3>Нахождение минимальной/максимальной пары</h3>"
   ]
  },
  {
   "cell_type": "markdown",
   "id": "5e579364",
   "metadata": {},
   "source": [
    "<b>• Переменную для хранения минимума изначально делаем очень большим числом</b>\n",
    "\n",
    "<b>• Переменную для хранения максимума изначально делаем очень маленьким числом</b>"
   ]
  },
  {
   "cell_type": "markdown",
   "id": "9c0adb7f",
   "metadata": {},
   "source": [
    "<h3>Примеры решения</h3>"
   ]
  },
  {
   "cell_type": "markdown",
   "id": "ddb8bf6b",
   "metadata": {},
   "source": [
    "<i><b>В файле содержится последовательность целых чисел.\n",
    "Элементы последовательности могут принимать целые значения от 1 до 100 000 включительно.\n",
    "Определите количество пар последовательности, в которых только одно число трехзначное, и сумма элементов\n",
    "пары кратна минимальному трехзначному значению последовательности, оканчивающемуся на 5.\n",
    "В ответе запишите два числа: сначала количество найденных пар, затем минимальную из сумм элементов таких пар.\n",
    "В данной задаче под парой подразумевается два идущих подряд элемента последовательности.</b></i>"
   ]
  },
  {
   "cell_type": "code",
   "execution_count": null,
   "id": "119b1ce8",
   "metadata": {},
   "outputs": [],
   "source": [
    "def t(n): # проверка на трёхзначность для удобства вынесена в функцию\n",
    "    return (n > 99) and (n < 1000) \n",
    "\n",
    "f = open('17_7596.txt')\n",
    "a = [int(i) for i in f]\n",
    "x = min([i for i in a if t(i) and i % 10 == 5]) # находим минимальное трёхзначное, оканчивающееся на 5\n",
    "n = 0 # счётчик пар\n",
    "mn = 200_000 # переменная для хранения минимальной суммы пары\n",
    "\n",
    "for i in range(len(a) - 1):\n",
    "    if ((t(a[i]) and t(a[i+1]) == 0) or (t(a[i + 1]) and t(a[i]) == 0)) and (a[i] + a[i + 1]) % x == 0: # проверка условия\n",
    "        n += 1 # увеличиваем счётчик\n",
    "        mn = min(mn, (a[i] + a[i + 1])) # обновляем минимум\n",
    "print(n, mn)"
   ]
  },
  {
   "cell_type": "markdown",
   "id": "9b8dd3c3",
   "metadata": {},
   "source": [
    "<i><b>В файле содержится последовательность целых чисел, которые принимают значения от -10000 до 10000 включительно.\n",
    "Тройка идущих подряд чисел последовательности называется уникальной, если только второе из них является положительным\n",
    "числом, заканчивающимся на 9. Определите количество уникальных троек чисел,\n",
    "а затем – максимальную из всех сумм таких троек.</b></i>"
   ]
  },
  {
   "cell_type": "code",
   "execution_count": null,
   "id": "7188ad30",
   "metadata": {},
   "outputs": [],
   "source": [
    "f = open('17_2398.txt')\n",
    "n = [int(i) for i in f]\n",
    "ans = 0 # счётчик количества троек\n",
    "mx = -10000 * 3 # переменная для хранения максимальной суммы троек\n",
    "for i in range(len(n) - 2):\n",
    "    if (n[i + 1] > 0 and n[i + 1] % 10 == 9) and not (n[i] > 0 and n[i] % 10 == 9) and not (\n",
    "            n[i + 2] > 0 and n[i + 2] % 10 == 9): #проверяем, что только второе (i + 1) число подходит под условие\n",
    "        ans += 1 # увеличиваем счётчик\n",
    "        mx = max(mx, n[i] + n[i + 1] + n[i + 2]) # обновляем максимум\n",
    "print(ans, mx)"
   ]
  }
 ],
 "metadata": {
  "kernelspec": {
   "display_name": "Python 3 (ipykernel)",
   "language": "python",
   "name": "python3"
  },
  "language_info": {
   "codemirror_mode": {
    "name": "ipython",
    "version": 3
   },
   "file_extension": ".py",
   "mimetype": "text/x-python",
   "name": "python",
   "nbconvert_exporter": "python",
   "pygments_lexer": "ipython3",
   "version": "3.9.5"
  }
 },
 "nbformat": 4,
 "nbformat_minor": 5
}
